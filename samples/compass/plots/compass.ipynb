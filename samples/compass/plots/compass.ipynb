{
 "cells": [
  {
   "cell_type": "code",
   "execution_count": 1,
   "id": "ca1ce2d7-f6a3-410b-a4be-d50db10dd0aa",
   "metadata": {},
   "outputs": [],
   "source": [
    "import csv\n",
    "import matplotlib.pyplot as plt\n",
    "import numpy as np\n",
    "import pandas as pd"
   ]
  },
  {
   "cell_type": "code",
   "execution_count": 2,
   "id": "172a79ed-ffcd-4591-b94b-62995cbb9d94",
   "metadata": {},
   "outputs": [],
   "source": [
    "plt.rcParams.update({\n",
    "    'font.size': 20,\n",
    "    'lines.linewidth': 2,\n",
    "    'lines.markersize': 8,\n",
    "})"
   ]
  },
  {
   "cell_type": "code",
   "execution_count": 3,
   "id": "fd2b18e5-d1c6-436d-8c1b-27f9f1614ab3",
   "metadata": {
    "scrolled": true
   },
   "outputs": [
    {
     "data": {
      "text/html": [
       "<div>\n",
       "<style scoped>\n",
       "    .dataframe tbody tr th:only-of-type {\n",
       "        vertical-align: middle;\n",
       "    }\n",
       "\n",
       "    .dataframe tbody tr th {\n",
       "        vertical-align: top;\n",
       "    }\n",
       "\n",
       "    .dataframe thead th {\n",
       "        text-align: right;\n",
       "    }\n",
       "</style>\n",
       "<table border=\"1\" class=\"dataframe\">\n",
       "  <thead>\n",
       "    <tr style=\"text-align: right;\">\n",
       "      <th></th>\n",
       "      <th>theta</th>\n",
       "      <th>ene</th>\n",
       "      <th>phi</th>\n",
       "    </tr>\n",
       "  </thead>\n",
       "  <tbody>\n",
       "    <tr>\n",
       "      <th>0</th>\n",
       "      <td>0.00000</td>\n",
       "      <td>-0.249874</td>\n",
       "      <td>0.499686</td>\n",
       "    </tr>\n",
       "    <tr>\n",
       "      <th>1</th>\n",
       "      <td>0.03927</td>\n",
       "      <td>-0.249855</td>\n",
       "      <td>0.494949</td>\n",
       "    </tr>\n",
       "    <tr>\n",
       "      <th>2</th>\n",
       "      <td>0.07854</td>\n",
       "      <td>-0.249422</td>\n",
       "      <td>0.489678</td>\n",
       "    </tr>\n",
       "    <tr>\n",
       "      <th>3</th>\n",
       "      <td>0.11781</td>\n",
       "      <td>-0.248702</td>\n",
       "      <td>0.484160</td>\n",
       "    </tr>\n",
       "    <tr>\n",
       "      <th>4</th>\n",
       "      <td>0.15708</td>\n",
       "      <td>-0.247698</td>\n",
       "      <td>0.478366</td>\n",
       "    </tr>\n",
       "  </tbody>\n",
       "</table>\n",
       "</div>"
      ],
      "text/plain": [
       "     theta       ene       phi\n",
       "0  0.00000 -0.249874  0.499686\n",
       "1  0.03927 -0.249855  0.494949\n",
       "2  0.07854 -0.249422  0.489678\n",
       "3  0.11781 -0.248702  0.484160\n",
       "4  0.15708 -0.247698  0.478366"
      ]
     },
     "execution_count": 3,
     "metadata": {},
     "output_type": "execute_result"
    }
   ],
   "source": [
    "df_right = pd.read_csv('../data/results_right_combined.dat')\n",
    "df_right.head()"
   ]
  },
  {
   "cell_type": "code",
   "execution_count": 4,
   "id": "fe5de81c-bd22-4d40-a66f-20805f91f79d",
   "metadata": {},
   "outputs": [
    {
     "data": {
      "text/html": [
       "<div>\n",
       "<style scoped>\n",
       "    .dataframe tbody tr th:only-of-type {\n",
       "        vertical-align: middle;\n",
       "    }\n",
       "\n",
       "    .dataframe tbody tr th {\n",
       "        vertical-align: top;\n",
       "    }\n",
       "\n",
       "    .dataframe thead th {\n",
       "        text-align: right;\n",
       "    }\n",
       "</style>\n",
       "<table border=\"1\" class=\"dataframe\">\n",
       "  <thead>\n",
       "    <tr style=\"text-align: right;\">\n",
       "      <th></th>\n",
       "      <th>theta</th>\n",
       "      <th>ene</th>\n",
       "      <th>phi</th>\n",
       "    </tr>\n",
       "  </thead>\n",
       "  <tbody>\n",
       "    <tr>\n",
       "      <th>0</th>\n",
       "      <td>0.596903</td>\n",
       "      <td>-0.218856</td>\n",
       "      <td>0.377761</td>\n",
       "    </tr>\n",
       "    <tr>\n",
       "      <th>1</th>\n",
       "      <td>0.612611</td>\n",
       "      <td>-0.217645</td>\n",
       "      <td>0.368827</td>\n",
       "    </tr>\n",
       "    <tr>\n",
       "      <th>2</th>\n",
       "      <td>0.628319</td>\n",
       "      <td>-0.216145</td>\n",
       "      <td>0.362093</td>\n",
       "    </tr>\n",
       "    <tr>\n",
       "      <th>3</th>\n",
       "      <td>0.644026</td>\n",
       "      <td>-0.214631</td>\n",
       "      <td>0.354944</td>\n",
       "    </tr>\n",
       "    <tr>\n",
       "      <th>4</th>\n",
       "      <td>0.659734</td>\n",
       "      <td>-0.213105</td>\n",
       "      <td>0.347315</td>\n",
       "    </tr>\n",
       "  </tbody>\n",
       "</table>\n",
       "</div>"
      ],
      "text/plain": [
       "      theta       ene       phi\n",
       "0  0.596903 -0.218856  0.377761\n",
       "1  0.612611 -0.217645  0.368827\n",
       "2  0.628319 -0.216145  0.362093\n",
       "3  0.644026 -0.214631  0.354944\n",
       "4  0.659734 -0.213105  0.347315"
      ]
     },
     "execution_count": 4,
     "metadata": {},
     "output_type": "execute_result"
    }
   ],
   "source": [
    "df_right_fine = pd.read_csv('../data/results_right_fine.dat')\n",
    "df_right_fine.head()"
   ]
  },
  {
   "cell_type": "code",
   "execution_count": 5,
   "id": "5699d154-6ea7-4b68-897f-76b1c92e40ed",
   "metadata": {},
   "outputs": [
    {
     "data": {
      "text/html": [
       "<div>\n",
       "<style scoped>\n",
       "    .dataframe tbody tr th:only-of-type {\n",
       "        vertical-align: middle;\n",
       "    }\n",
       "\n",
       "    .dataframe tbody tr th {\n",
       "        vertical-align: top;\n",
       "    }\n",
       "\n",
       "    .dataframe thead th {\n",
       "        text-align: right;\n",
       "    }\n",
       "</style>\n",
       "<table border=\"1\" class=\"dataframe\">\n",
       "  <thead>\n",
       "    <tr style=\"text-align: right;\">\n",
       "      <th></th>\n",
       "      <th>theta</th>\n",
       "      <th>ene</th>\n",
       "      <th>phi</th>\n",
       "    </tr>\n",
       "  </thead>\n",
       "  <tbody>\n",
       "    <tr>\n",
       "      <th>0</th>\n",
       "      <td>1.570796</td>\n",
       "      <td>-0.250000</td>\n",
       "      <td>-0.500000</td>\n",
       "    </tr>\n",
       "    <tr>\n",
       "      <th>1</th>\n",
       "      <td>1.531526</td>\n",
       "      <td>-0.249855</td>\n",
       "      <td>-0.495034</td>\n",
       "    </tr>\n",
       "    <tr>\n",
       "      <th>2</th>\n",
       "      <td>1.492257</td>\n",
       "      <td>-0.249422</td>\n",
       "      <td>-0.489855</td>\n",
       "    </tr>\n",
       "    <tr>\n",
       "      <th>3</th>\n",
       "      <td>1.452987</td>\n",
       "      <td>-0.248702</td>\n",
       "      <td>-0.484436</td>\n",
       "    </tr>\n",
       "    <tr>\n",
       "      <th>4</th>\n",
       "      <td>1.413717</td>\n",
       "      <td>-0.247698</td>\n",
       "      <td>-0.478747</td>\n",
       "    </tr>\n",
       "  </tbody>\n",
       "</table>\n",
       "</div>"
      ],
      "text/plain": [
       "      theta       ene       phi\n",
       "0  1.570796 -0.250000 -0.500000\n",
       "1  1.531526 -0.249855 -0.495034\n",
       "2  1.492257 -0.249422 -0.489855\n",
       "3  1.452987 -0.248702 -0.484436\n",
       "4  1.413717 -0.247698 -0.478747"
      ]
     },
     "execution_count": 5,
     "metadata": {},
     "output_type": "execute_result"
    }
   ],
   "source": [
    "df_left = pd.read_csv('../data/results_left_combined.dat')\n",
    "df_left.head()"
   ]
  },
  {
   "cell_type": "code",
   "execution_count": 6,
   "id": "6a879bc5-69f5-4869-b466-7e1ee9a5a8d2",
   "metadata": {},
   "outputs": [
    {
     "data": {
      "text/html": [
       "<div>\n",
       "<style scoped>\n",
       "    .dataframe tbody tr th:only-of-type {\n",
       "        vertical-align: middle;\n",
       "    }\n",
       "\n",
       "    .dataframe tbody tr th {\n",
       "        vertical-align: top;\n",
       "    }\n",
       "\n",
       "    .dataframe thead th {\n",
       "        text-align: right;\n",
       "    }\n",
       "</style>\n",
       "<table border=\"1\" class=\"dataframe\">\n",
       "  <thead>\n",
       "    <tr style=\"text-align: right;\">\n",
       "      <th></th>\n",
       "      <th>theta</th>\n",
       "      <th>ene</th>\n",
       "      <th>phi</th>\n",
       "    </tr>\n",
       "  </thead>\n",
       "  <tbody>\n",
       "    <tr>\n",
       "      <th>0</th>\n",
       "      <td>0.973894</td>\n",
       "      <td>-0.219127</td>\n",
       "      <td>-0.377092</td>\n",
       "    </tr>\n",
       "    <tr>\n",
       "      <th>1</th>\n",
       "      <td>0.958186</td>\n",
       "      <td>-0.217645</td>\n",
       "      <td>-0.370833</td>\n",
       "    </tr>\n",
       "    <tr>\n",
       "      <th>2</th>\n",
       "      <td>0.942478</td>\n",
       "      <td>-0.216146</td>\n",
       "      <td>-0.364207</td>\n",
       "    </tr>\n",
       "    <tr>\n",
       "      <th>3</th>\n",
       "      <td>0.926770</td>\n",
       "      <td>-0.214632</td>\n",
       "      <td>-0.357160</td>\n",
       "    </tr>\n",
       "    <tr>\n",
       "      <th>4</th>\n",
       "      <td>0.911062</td>\n",
       "      <td>-0.213106</td>\n",
       "      <td>-0.349638</td>\n",
       "    </tr>\n",
       "  </tbody>\n",
       "</table>\n",
       "</div>"
      ],
      "text/plain": [
       "      theta       ene       phi\n",
       "0  0.973894 -0.219127 -0.377092\n",
       "1  0.958186 -0.217645 -0.370833\n",
       "2  0.942478 -0.216146 -0.364207\n",
       "3  0.926770 -0.214632 -0.357160\n",
       "4  0.911062 -0.213106 -0.349638"
      ]
     },
     "execution_count": 6,
     "metadata": {},
     "output_type": "execute_result"
    }
   ],
   "source": [
    "df_left_fine = pd.read_csv('../data/results_left_fine.dat')\n",
    "df_left_fine.head()"
   ]
  },
  {
   "cell_type": "code",
   "execution_count": 7,
   "id": "3f3dd685-ac81-4ca8-9cb5-e8a07a820c13",
   "metadata": {},
   "outputs": [
    {
     "data": {
      "image/png": "[encoded data removed]",
      "text/plain": [
       "<Figure size 700x400 with 1 Axes>"
      ]
     },
     "metadata": {},
     "output_type": "display_data"
    }
   ],
   "source": [
    "plt.figure(0, [7, 4.0])\n",
    "\n",
    "plt.gca().set_clip_on(False)\n",
    "\n",
    "line1, = plt.plot(df_left[\"theta\"]/(np.pi/2), df_left[\"phi\"], '-or', label=f\"sweep left\", zorder=3)\n",
    "line2, = plt.plot(df_right[\"theta\"]/(np.pi/2), df_right[\"phi\"], '-ob', label=f\"sweep right\", zorder=3)\n",
    "\n",
    "line1.set_clip_on(False)\n",
    "line2.set_clip_on(False)\n",
    "\n",
    "plt.axvline(x=0.5, color='black', linestyle='--', linewidth=2)\n",
    "\n",
    "plt.legend(loc='lower left', fontsize=16)\n",
    "plt.xlabel('$\\\\theta$/$(\\\\pi/2)$')\n",
    "plt.ylabel('$\\\\phi$')\n",
    "\n",
    "plt.xlim(0, 1)\n",
    "plt.ylim(-0.5, 0.5)\n",
    "\n",
    "plt.savefig(\"compass_phi_theta.pdf\", format=\"pdf\", dpi=300, bbox_inches=\"tight\")\n",
    "plt.show()"
   ]
  },
  {
   "cell_type": "code",
   "execution_count": 8,
   "id": "8afb6f91-1f7a-4e09-a619-053a129a1e75",
   "metadata": {},
   "outputs": [
    {
     "data": {
      "image/png": "[encoded data removed]",
      "text/plain": [
       "<Figure size 400x150 with 1 Axes>"
      ]
     },
     "metadata": {},
     "output_type": "display_data"
    }
   ],
   "source": [
    "plt.figure(0, [4, 1.5])\n",
    "\n",
    "line1, = plt.plot(df_left_fine[\"theta\"]/(np.pi/2), (df_left_fine[\"phi\"]), '-or', label=f\"sweep left\", zorder=3)\n",
    "line2, = plt.plot(df_right_fine[\"theta\"]/(np.pi/2), (df_right_fine[\"phi\"]), '-ob', markersize=8, label=f\"sweep right\", zorder=3)\n",
    "\n",
    "plt.axvline(x=0.5, color='black', linestyle='--', linewidth=2)\n",
    "\n",
    "plt.ylabel('$\\\\phi$')\n",
    "\n",
    "plt.xlim(0.4,0.6)\n",
    "plt.ylim(-0.5,0.5)\n",
    "\n",
    "plt.savefig(\"compass_phi_theta_zoom.pdf\", format=\"pdf\", dpi=300, bbox_inches=\"tight\")\n",
    "plt.show()"
   ]
  },
  {
   "cell_type": "code",
   "execution_count": 9,
   "id": "5455892a-06a6-4d0e-b74e-76f11334ea53",
   "metadata": {},
   "outputs": [
    {
     "data": {
      "image/png": "[encoded data removed]",
      "text/plain": [
       "<Figure size 400x150 with 1 Axes>"
      ]
     },
     "metadata": {},
     "output_type": "display_data"
    }
   ],
   "source": [
    "plt.figure(0, [4, 1.5])\n",
    "\n",
    "line1, = plt.plot(df_left_fine[\"theta\"]/(np.pi/2), (df_left_fine[\"ene\"]), '-or', label=f\"sweep left\", zorder=3)\n",
    "line2, = plt.plot(df_right_fine[\"theta\"]/(np.pi/2), (df_right_fine[\"ene\"]), '-ob', markersize=8, label=f\"sweep right\", zorder=3)\n",
    "\n",
    "plt.axvline(x=0.5, color='black', linestyle='--', linewidth=2)\n",
    "\n",
    "plt.xlabel('$\\\\theta$/$(\\\\pi/2)$')\n",
    "plt.ylabel('Energy')\n",
    "\n",
    "plt.xlim(0.4,0.6)\n",
    "plt.ylim(-0.222,-0.19)\n",
    "\n",
    "plt.savefig(\"compass_energy_theta_zoom.pdf\", format=\"pdf\", dpi=300, bbox_inches=\"tight\")\n",
    "plt.show()"
   ]
  }
 ],
 "metadata": {
  "kernelspec": {
   "display_name": "Python 3 (ipykernel)",
   "language": "python",
   "name": "python3"
  },
  "language_info": {
   "codemirror_mode": {
    "name": "ipython",
    "version": 3
   },
   "file_extension": ".py",
   "mimetype": "text/x-python",
   "name": "python",
   "nbconvert_exporter": "python",
   "pygments_lexer": "ipython3",
   "version": "3.10.12"
  }
 },
 "nbformat": 4,
 "nbformat_minor": 5
}
